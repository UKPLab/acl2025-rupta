{
 "cells": [
  {
   "cell_type": "code",
   "execution_count": 3,
   "id": "fdddeb5d-e848-46b9-8602-ecc3dd8624ef",
   "metadata": {},
   "outputs": [],
   "source": [
    "import os\n",
    "import torch\n",
    "\n",
    "from transformers import AutoModelForCausalLM, AutoTokenizer, TrainingArguments, BitsAndBytesConfig\n",
    "from datasets import load_dataset\n",
    "# from trl import SFTTrainer\n",
    "# from peft import AutoPeftModelForCausalLM, LoraConfig, get_peft_model, prepare_model_for_kbit_training\n",
    "# from utils import find_all_linear_names, print_trainable_parameters\n",
    "\n",
    "model_name = \"/storage/ukp/shared/shared_model_weights/models--\" + \"llama-2-hf\" + \"/\" + \"/7B-Chat\""
   ]
  },
  {
   "cell_type": "code",
   "execution_count": 4,
   "id": "8fdc817c-b4c8-46af-8161-4a7266c0670b",
   "metadata": {},
   "outputs": [],
   "source": [
    "tokenizer = AutoTokenizer.from_pretrained(model_name)"
   ]
  },
  {
   "cell_type": "code",
   "execution_count": null,
   "id": "b93e150b-2247-4c01-a85c-ccf9bdcededb",
   "metadata": {},
   "outputs": [],
   "source": []
  }
 ],
 "metadata": {
  "kernelspec": {
   "display_name": "Python 3 (ipykernel)",
   "language": "python",
   "name": "python3"
  },
  "language_info": {
   "codemirror_mode": {
    "name": "ipython",
    "version": 3
   },
   "file_extension": ".py",
   "mimetype": "text/x-python",
   "name": "python",
   "nbconvert_exporter": "python",
   "pygments_lexer": "ipython3",
   "version": "3.9.16"
  }
 },
 "nbformat": 4,
 "nbformat_minor": 5
}
